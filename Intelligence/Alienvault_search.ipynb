{
  "cells": [
    {
      "cell_type": "code",
      "execution_count": null,
      "metadata": {
        "colab": {
          "base_uri": "https://localhost:8080/"
        },
        "id": "MkgYaR_cdCBZ",
        "outputId": "e8fe083d-6581-480c-b2e3-6d99bfc3dac6"
      },
      "outputs": [
        {
          "output_type": "stream",
          "name": "stdout",
          "text": [
            "Collecting OTXv2\n",
            "  Downloading OTXv2-1.5.12-py3-none-any.whl (16 kB)\n",
            "Requirement already satisfied: requests in /usr/local/lib/python3.10/dist-packages (from OTXv2) (2.31.0)\n",
            "Requirement already satisfied: python-dateutil in /usr/local/lib/python3.10/dist-packages (from OTXv2) (2.8.2)\n",
            "Requirement already satisfied: pytz in /usr/local/lib/python3.10/dist-packages (from OTXv2) (2023.3.post1)\n",
            "Requirement already satisfied: six>=1.5 in /usr/local/lib/python3.10/dist-packages (from python-dateutil->OTXv2) (1.16.0)\n",
            "Requirement already satisfied: charset-normalizer<4,>=2 in /usr/local/lib/python3.10/dist-packages (from requests->OTXv2) (3.3.2)\n",
            "Requirement already satisfied: idna<4,>=2.5 in /usr/local/lib/python3.10/dist-packages (from requests->OTXv2) (3.6)\n",
            "Requirement already satisfied: urllib3<3,>=1.21.1 in /usr/local/lib/python3.10/dist-packages (from requests->OTXv2) (2.0.7)\n",
            "Requirement already satisfied: certifi>=2017.4.17 in /usr/local/lib/python3.10/dist-packages (from requests->OTXv2) (2023.11.17)\n",
            "Installing collected packages: OTXv2\n",
            "Successfully installed OTXv2-1.5.12\n"
          ]
        }
      ],
      "source": [
        "pip install OTXv2"
      ]
    },
    {
      "cell_type": "code",
      "execution_count": null,
      "metadata": {
        "colab": {
          "base_uri": "https://localhost:8080/"
        },
        "id": "RlldN_RR9h7F",
        "outputId": "22bfe78a-e61d-44a8-a98c-e8d836b6fb9a"
      },
      "outputs": [
        {
          "output_type": "stream",
          "name": "stdout",
          "text": [
            "Mounted at /content/drive\n"
          ]
        }
      ],
      "source": [
        "from google.colab import drive\n",
        "drive.mount('/content/drive')"
      ]
    },
    {
      "cell_type": "code",
      "execution_count": null,
      "metadata": {
        "id": "om2ERrIw-Mcz"
      },
      "outputs": [],
      "source": [
        "from OTXv2 import OTXv2, NotFound, IndicatorTypes\n",
        "\n",
        "API_KEY = 'YOUR API KEY'                    #Paste api key here\n",
        "SERVER = 'https://otx.alienvault.com/'\n",
        "\n",
        "def get_response(ioc_type, ioc):\n",
        "    try:\n",
        "        otx = OTXv2(API_KEY, SERVER)\n",
        "        response = otx.get_indicator_details_full(IndicatorTypes.IPv4, ioc)\n",
        "        return response\n",
        "    except NotFound:\n",
        "        return None\n",
        "    except Exception as e:\n",
        "        print(e)\n",
        "        return None\n",
        "\n",
        "def extract_threat_info(json_response):\n",
        "    if not json_response:\n",
        "        status = \"incomplete\"\n",
        "        return None\n",
        "    status=\"complete\"\n",
        "    indicator_details = json_response.get('general', {})\n",
        "    ip_address = indicator_details.get('indicator', '')\n",
        "    reputation = indicator_details.get('reputation', 0)\n",
        "    asn = indicator_details.get('asn', 0)\n",
        "    location = json_response.get('geo', {}).get('country_name', '')\n",
        "\n",
        "    # Extract pulse_info\n",
        "    pulse_info = indicator_details.get('pulse_info', {})\n",
        "    pulse_count = indicator_details.get('pulse_info', {}).get('count', 0)\n",
        "    pulse_tags = set()\n",
        "    pulse_adversary =set()\n",
        "    pulse_names= set()\n",
        "    pulse_description =set()\n",
        "    pulse_created = set()\n",
        "    pulse_industries =set()\n",
        "    pulse_TLPs =set()\n",
        "    pulse_targeted_countries = set()\n",
        "    pulse_malware_families = []\n",
        "    pulse_attack_ID=[]\n",
        "    pulse_attack_name=[]\n",
        "\n",
        "    for i in range(pulse_count):\n",
        "        pulse_tags.update(indicator_details.get('pulse_info', {}).get('pulses', [])[i].get('tags', []))\n",
        "        pulse_adversary.update(indicator_details.get('pulse_info', {}).get('pulses', [])[i].get('adversary', []))\n",
        "        pulse_name = indicator_details.get('pulse_info', {}).get('pulses', [])[i].get('name', [])\n",
        "        pulse_names.add(pulse_name)\n",
        "        description = indicator_details.get('pulse_info', {}).get('pulses', [])[i].get('description', '')\n",
        "        # Remove '\\n' and '\\t' from the description\n",
        "        cleaned_description = description.replace('\\n', '').replace('\\t', '')\n",
        "\n",
        "        pulse_description.add(cleaned_description)\n",
        "        pulse_create = indicator_details.get('pulse_info', {}).get('pulses', [])[i].get('created', [])\n",
        "        pulse_created.add(pulse_create)\n",
        "        pulse_TLP = indicator_details.get('pulse_info', {}).get('pulses', [])[i].get('TLP', [])\n",
        "        pulse_TLPs.add(pulse_TLP)\n",
        "        pulse_industries.update(indicator_details.get('pulse_info', {}).get('pulses', [])[i].get('industries', []))\n",
        "        pulse_malware_families.extend(entry['display_name'] for entry in pulse_info.get('pulses', [])[i].get('malware_families', []))\n",
        "        pulse_targeted_countries.update(indicator_details.get('pulse_info', {}).get('pulses', [])[i].get('targeted_countries', []))\n",
        "        pulse_attack_ID.extend(entry['id'] for entry in pulse_info.get('pulses', [])[i].get('attack_ids', []))\n",
        "        pulse_attack_name.extend(entry['name'] for entry in pulse_info.get('pulses', [])[i].get('attack_ids', []))\n",
        "\n",
        "\n",
        "   # Use a tuple to represent each unique targeted country\n",
        "    unique_targeted_countries = list(set(pulse_targeted_countries))\n",
        "    unique_malware_families = list(set(pulse_malware_families))\n",
        "    unique_tags = list(set(pulse_tags))\n",
        "    unique_adversary = list(set(pulse_adversary))\n",
        "    unique_industries = list(set(pulse_industries))\n",
        "    unique_pulse_attack_id = list(set(pulse_attack_ID))\n",
        "    unique_pulse_attack_name = list(set(pulse_attack_name))\n",
        "    # Extract malware information\n",
        "    malware_info = json_response.get('malware', {})\n",
        "    malware_data = [\n",
        "    tuple([\n",
        "        malware.get('detections', {}).get('avast', ''),\n",
        "        malware.get('detections', {}).get('avg', ''),\n",
        "        malware.get('detections', {}).get('clamav', ''),\n",
        "        malware.get('detections', {}).get('msdefender', '')\n",
        "    ])\n",
        "    for malware in malware_info.get('data', [])\n",
        "    if any(malware.get('detections', {}).get(product) for product in ['avast', 'avg', 'clamav', 'msdefender'])]\n",
        "    unique_malware = list(set(malware_data))\n",
        "\n",
        "    # Assuming you have a JSON response stored in a variable called 'response'\n",
        "    passive_dns_data = json_response.get('passive_dns', {}).get('passive_dns', [])\n",
        "\n",
        "    # Extract hostnames from passive DNS data\n",
        "    hostnames = [entry.get('hostname', '') for entry in passive_dns_data]\n",
        "    unique_hostnames = list(set(hostnames))\n",
        "\n",
        "    # Assuming you have a JSON response stored in a variable called 'response'\n",
        "    url_list_data = json_response.get('url_list', {}).get('url_list', [])\n",
        "\n",
        "    # Extract URLs from url_list data\n",
        "    urls = [entry.get('url', '') for entry in url_list_data]\n",
        "    unique_urls = list(set(urls))\n",
        "\n",
        "    is_whitelisted = any(validation.get('name') == 'Whitelisted IP' for validation in indicator_details.get('validation', []))\n",
        "\n",
        "    return {\n",
        "        \"IP Address\": ip_address,\n",
        "        \"ASN\": asn,\n",
        "        \"Location\": location,\n",
        "        \"Tags\": unique_tags,\n",
        "        \"Pulse Name\": pulse_names,\n",
        "        \"Pulse Description\": pulse_description,\n",
        "        \"Pulse Created\": pulse_created,\n",
        "        \"Pulse TLP\": pulse_TLPs,\n",
        "        \"Pulse Adversary\": unique_adversary,\n",
        "        \"Pulse Targeted Countries\": unique_targeted_countries,\n",
        "        \"Pulse Industries\": unique_industries,\n",
        "        \"Pulse Malware Families\": unique_malware_families,\n",
        "        \"Pulse Attack ID\": unique_pulse_attack_id,\n",
        "        \"Pulse Attack Name\": unique_pulse_attack_name,\n",
        "        \"Malware\": ', '.join([', '.join(filter(None, malware)) for malware in unique_malware]),\n",
        "        \"Passive DNS_Hostnames\": unique_hostnames,\n",
        "        \"Associated URLS\": unique_urls,\n",
        "        \"Reputation\": reputation,\n",
        "        \"Whitelisted\": is_whitelisted,\n",
        "        \"Status\": status\n",
        "    }\n",
        "\n",
        "\n",
        "def search_and_extract_info(ip_address):\n",
        "    ioc_type = \"IPv4\"\n",
        "    response = get_response(ioc_type, ip_address)\n",
        "\n",
        "    if response:\n",
        "        threat_info = extract_threat_info(response)\n",
        "        return threat_info\n",
        "\n"
      ]
    },
    {
      "cell_type": "markdown",
      "source": [
        "## Read IP address from List"
      ],
      "metadata": {
        "id": "3HIGwWYj5ege"
      }
    },
    {
      "cell_type": "code",
      "execution_count": null,
      "metadata": {
        "colab": {
          "base_uri": "https://localhost:8080/"
        },
        "id": "j5-GKvJdDNwY",
        "outputId": "0a8c280d-1076-4ef9-98c2-c3d0f346f9d8"
      },
      "outputs": [
        {
          "name": "stdout",
          "output_type": "stream",
          "text": [
            "{'detail': 'IP is private.'}\n",
            "Results saved to: /content/drive/MyDrive/xai/Darknet/AV/DST_Tor.csv\n"
          ]
        }
      ],
      "source": [
        "import csv\n",
        "# List of IP addresses to check(mentioned in CIC-Datknet daatset)\n",
        "ip_addresses_to_check = ['195.154.107.23', '195.154.82.180', '213.239.216.222',\n",
        "       '37.97.149.8', '10.0.2.15', '82.161.239.177', '8.0.6.4',\n",
        "       '217.23.3.253', '173.194.204.188', '131.202.240.150',\n",
        "       '131.202.243.255', '195.154.126.78', '198.52.200.39',\n",
        "       '148.251.190.229', '5.9.123.81', '173.194.123.1', '216.58.219.195',\n",
        "       '74.125.29.95', '216.58.219.206', '74.125.226.174',\n",
        "       '216.58.219.237', '173.194.208.189', '173.194.123.99',\n",
        "       '216.58.219.227', '74.125.226.184', '173.194.123.48',\n",
        "       '74.125.226.166', '173.194.123.118', '173.194.123.94',\n",
        "       '173.194.123.100', '173.194.123.117', '173.194.123.96',\n",
        "       '131.202.244.3', '131.202.244.5', '131.202.6.3', '74.125.226.160']\n",
        "\n",
        "# Create a list to store the results\n",
        "results = []\n",
        "\n",
        "# Iterate through each IP address and get the threat info\n",
        "for ip_address in ip_addresses_to_check:\n",
        "    threat_info = search_and_extract_info(ip_address)\n",
        "    if threat_info:\n",
        "        results.append(threat_info)\n",
        "\n",
        "# Define the CSV file path\n",
        "csv_file_path = \"/content/drive/MyDrive/xai/Darknet/AV/DST_Tor.csv\"\n",
        "\n",
        "# Write the results to a CSV file\n",
        "with open(csv_file_path, mode='w', newline='') as csv_file:\n",
        "    fieldnames = [\"IP Address\", \"ASN\", \"Location\", \"Tags\", \"Pulse Name\",\"Pulse Description\", \"Pulse Created\", \"Pulse TLP\", \"Pulse Adversary\",\"Pulse Targeted Countries\", \"Pulse Industries\", \"Pulse Malware Families\",\n",
        "    \"Pulse Attack ID\", \"Pulse Attack Name\", \"Malware\",\"Passive DNS_Hostnames\", \"Associated URLS\", \"Reputation\",\"Whitelisted\", \"Status\"]\n",
        "    writer = csv.DictWriter(csv_file, fieldnames=fieldnames)\n",
        "\n",
        "    # Write header\n",
        "    writer.writeheader()\n",
        "\n",
        "    # Write data\n",
        "    for result in results:\n",
        "        writer.writerow(result)\n",
        "\n",
        "print(f\"Results saved to: {csv_file_path}\")\n"
      ]
    },
    {
      "cell_type": "markdown",
      "metadata": {
        "id": "6bnmhVkYYDOo"
      },
      "source": [
        "## Read IP address from csv"
      ]
    },
    {
      "cell_type": "code",
      "execution_count": null,
      "metadata": {
        "id": "prskMx2KYXgz"
      },
      "outputs": [],
      "source": [
        "import pandas as pd\n",
        "\n",
        "# Field names for the dataset\n",
        "fields_name = [\"Src IP\", \"ASN\", \"Location\", \"Tags\", \"Pulse Name\",\"Pulse Description\", \"Pulse Created\", \"Pulse TLP\", \"Pulse Adversary\",\"Pulse Targeted Countries\", \"Pulse Industries\", \"Pulse Malware Families\",\n",
        "    \"Pulse Attack ID\", \"Pulse Attack Name\", \"Malware\",\"Passive DNS_Hostnames\", \"Associated URLS\", \"Reputation\",\"Whitelisted\", \"Status\"]\n",
        "\n",
        "# Read the CSV file into a pandas DataFrame\n",
        "df = pd.read_csv('/content/drive/MyDrive/xai/Darknet/AV/DST_Non_Tor.csv', names=fields_name, engine=\"python\")\n",
        "\n",
        "# Define the index range you want to update\n",
        "start_index = 6000\n",
        "end_index = 6500  # Adjust the end index as needed\n",
        "\n",
        "# Iterate through the specified range of rows in the DataFrame\n",
        "for index, row in df.iloc[start_index:end_index].iterrows():\n",
        "    if row['Status'] not in ['complete']:\n",
        "        ip_address = row['Src IP']\n",
        "        threat_info = search_and_extract_info(ip_address)\n",
        "\n",
        "        if threat_info:\n",
        "            # Update the row with the new threat information\n",
        "            df.loc[index, 'ASN'] = threat_info.get(\"ASN\", \"\")\n",
        "            df.loc[index, 'Location'] = threat_info.get(\"Location\", \"\")\n",
        "            df.loc[index, 'Tags'] = ', '.join(threat_info.get(\"Tags\", []))\n",
        "            df.loc[index, 'Pulse Name'] = ', '.join(map(str, threat_info.get(\"Pulse Name\", [])))\n",
        "            df.loc[index, 'Pulse Description'] = ', '.join(map(str, threat_info.get(\"Pulse Description\", [])))\n",
        "            df.loc[index, 'Pulse Created'] = ', '.join(map(str, threat_info.get(\"Pulse Created\", [])))\n",
        "            df.loc[index, 'Pulse TLP'] = ', '.join(map(str, threat_info.get(\"Pulse TLP\", [])))\n",
        "            df.loc[index, 'Pulse Adversary'] = ', '.join(map(str, threat_info.get(\"Pulse Adversary\", [])))\n",
        "            df.loc[index, 'Pulse Targeted Countries'] = ', '.join(threat_info.get(\"Pulse Targeted Countries\", []))\n",
        "            df.loc[index, 'Pulse Industries'] = ', '.join(threat_info.get(\"Pulse Industries\", []))\n",
        "            df.loc[index, 'Pulse Malware Families'] = ', '.join(threat_info.get(\"Pulse Malware Families\", \"\"))\n",
        "            df.loc[index, 'Pulse Attack ID'] = ', '.join(map(str, threat_info.get(\"Pulse Attack ID\", [])))\n",
        "            df.loc[index, 'Pulse Attack Name'] = ', '.join(map(str, threat_info.get(\"Pulse Attack Name\", [])))\n",
        "            df.loc[index, 'Malware'] = threat_info.get(\"Malware\", \"\")\n",
        "            df.loc[index, 'Passive DNS_Hostnames'] = ', '.join(threat_info.get(\"Passive DNS_Hostnames\", []))\n",
        "            df.loc[index, 'Associated URLS'] = ', '.join(threat_info.get(\"Associated URLS\", \"\"))\n",
        "            df.loc[index, 'Reputation'] = threat_info.get(\"Reputation\", \"\")\n",
        "            df.loc[index, 'Whitelisted'] = threat_info.get(\"Whitelisted\", \"\")\n",
        "            df.loc[index, 'Status'] = threat_info.get(\"Status\", \"\")\n",
        "\n",
        "\n",
        "# Save the updated DataFrame to the same CSV file\n",
        "df.to_csv('/content/drive/MyDrive/xai/Darknet/AV/DST_Non_Tor.csv', index=False)\n",
        "\n"
      ]
    }
  ],
  "metadata": {
    "colab": {
      "provenance": []
    },
    "kernelspec": {
      "display_name": "Python 3",
      "name": "python3"
    },
    "language_info": {
      "name": "python"
    }
  },
  "nbformat": 4,
  "nbformat_minor": 0
}
